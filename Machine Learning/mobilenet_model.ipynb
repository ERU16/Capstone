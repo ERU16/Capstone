{
  "nbformat": 4,
  "nbformat_minor": 0,
  "metadata": {
    "colab": {
      "provenance": [],
      "gpuType": "V28"
    },
    "kernelspec": {
      "name": "python3",
      "display_name": "Python 3"
    },
    "language_info": {
      "name": "python"
    },
    "accelerator": "TPU"
  },
  "cells": [
    {
      "cell_type": "code",
      "execution_count": 1,
      "metadata": {
        "id": "xfFvlJrJ06BS"
      },
      "outputs": [],
      "source": [
        "import os\n",
        "import cv2\n",
        "import numpy as np\n",
        "import pandas as pd\n",
        "import matplotlib.pyplot as plt\n",
        "import seaborn as sns\n",
        "import skimage.io as io\n",
        "from sklearn.preprocessing import LabelEncoder\n",
        "from sklearn.model_selection import train_test_split\n",
        "\n",
        "import tensorflow as tf\n",
        "from tensorflow.keras.preprocessing import image\n",
        "from tensorflow.keras.preprocessing.image import ImageDataGenerator\n",
        "from tensorflow.keras.models import Sequential\n",
        "from tensorflow.keras.layers import Conv2D, MaxPooling2D, Flatten, Dense, Dropout, GlobalAveragePooling2D,Input\n",
        "from sklearn.metrics import classification_report\n",
        "from sklearn.metrics import confusion_matrix, ConfusionMatrixDisplay\n",
        "from tensorflow.keras.models import Model"
      ]
    },
    {
      "cell_type": "code",
      "source": [
        "print('Upload Kaggle.json')\n",
        "\n",
        "from google.colab import files\n",
        "uploaded = files.upload()\n",
        "\n",
        "# Membuat folder .kaggle jika belum ada untuk menyimpan kaggle.json\n",
        "os.makedirs(\"/root/.kaggle\", exist_ok=True)\n",
        "\n",
        "# Memindahkan file kaggle.json ke direktori .kaggle agar bisa digunakan oleh Kaggle API\n",
        "os.rename(\"kaggle.json\", \"/root/.kaggle/kaggle.json\")\n",
        "\n",
        "!chmod 600 /root/.kaggle/kaggle.json\n"
      ],
      "metadata": {
        "colab": {
          "base_uri": "https://localhost:8080/",
          "height": 90
        },
        "id": "-RIAJs2v07jY",
        "outputId": "f5c7c389-d1d0-461a-8dc0-1ea1d4d60859"
      },
      "execution_count": 4,
      "outputs": [
        {
          "output_type": "stream",
          "name": "stdout",
          "text": [
            "Upload Kaggle.json\n"
          ]
        },
        {
          "output_type": "display_data",
          "data": {
            "text/plain": [
              "<IPython.core.display.HTML object>"
            ],
            "text/html": [
              "\n",
              "     <input type=\"file\" id=\"files-f0db11b3-0ed2-4f46-9c77-bf33eb713296\" name=\"files[]\" multiple disabled\n",
              "        style=\"border:none\" />\n",
              "     <output id=\"result-f0db11b3-0ed2-4f46-9c77-bf33eb713296\">\n",
              "      Upload widget is only available when the cell has been executed in the\n",
              "      current browser session. Please rerun this cell to enable.\n",
              "      </output>\n",
              "      <script>// Copyright 2017 Google LLC\n",
              "//\n",
              "// Licensed under the Apache License, Version 2.0 (the \"License\");\n",
              "// you may not use this file except in compliance with the License.\n",
              "// You may obtain a copy of the License at\n",
              "//\n",
              "//      http://www.apache.org/licenses/LICENSE-2.0\n",
              "//\n",
              "// Unless required by applicable law or agreed to in writing, software\n",
              "// distributed under the License is distributed on an \"AS IS\" BASIS,\n",
              "// WITHOUT WARRANTIES OR CONDITIONS OF ANY KIND, either express or implied.\n",
              "// See the License for the specific language governing permissions and\n",
              "// limitations under the License.\n",
              "\n",
              "/**\n",
              " * @fileoverview Helpers for google.colab Python module.\n",
              " */\n",
              "(function(scope) {\n",
              "function span(text, styleAttributes = {}) {\n",
              "  const element = document.createElement('span');\n",
              "  element.textContent = text;\n",
              "  for (const key of Object.keys(styleAttributes)) {\n",
              "    element.style[key] = styleAttributes[key];\n",
              "  }\n",
              "  return element;\n",
              "}\n",
              "\n",
              "// Max number of bytes which will be uploaded at a time.\n",
              "const MAX_PAYLOAD_SIZE = 100 * 1024;\n",
              "\n",
              "function _uploadFiles(inputId, outputId) {\n",
              "  const steps = uploadFilesStep(inputId, outputId);\n",
              "  const outputElement = document.getElementById(outputId);\n",
              "  // Cache steps on the outputElement to make it available for the next call\n",
              "  // to uploadFilesContinue from Python.\n",
              "  outputElement.steps = steps;\n",
              "\n",
              "  return _uploadFilesContinue(outputId);\n",
              "}\n",
              "\n",
              "// This is roughly an async generator (not supported in the browser yet),\n",
              "// where there are multiple asynchronous steps and the Python side is going\n",
              "// to poll for completion of each step.\n",
              "// This uses a Promise to block the python side on completion of each step,\n",
              "// then passes the result of the previous step as the input to the next step.\n",
              "function _uploadFilesContinue(outputId) {\n",
              "  const outputElement = document.getElementById(outputId);\n",
              "  const steps = outputElement.steps;\n",
              "\n",
              "  const next = steps.next(outputElement.lastPromiseValue);\n",
              "  return Promise.resolve(next.value.promise).then((value) => {\n",
              "    // Cache the last promise value to make it available to the next\n",
              "    // step of the generator.\n",
              "    outputElement.lastPromiseValue = value;\n",
              "    return next.value.response;\n",
              "  });\n",
              "}\n",
              "\n",
              "/**\n",
              " * Generator function which is called between each async step of the upload\n",
              " * process.\n",
              " * @param {string} inputId Element ID of the input file picker element.\n",
              " * @param {string} outputId Element ID of the output display.\n",
              " * @return {!Iterable<!Object>} Iterable of next steps.\n",
              " */\n",
              "function* uploadFilesStep(inputId, outputId) {\n",
              "  const inputElement = document.getElementById(inputId);\n",
              "  inputElement.disabled = false;\n",
              "\n",
              "  const outputElement = document.getElementById(outputId);\n",
              "  outputElement.innerHTML = '';\n",
              "\n",
              "  const pickedPromise = new Promise((resolve) => {\n",
              "    inputElement.addEventListener('change', (e) => {\n",
              "      resolve(e.target.files);\n",
              "    });\n",
              "  });\n",
              "\n",
              "  const cancel = document.createElement('button');\n",
              "  inputElement.parentElement.appendChild(cancel);\n",
              "  cancel.textContent = 'Cancel upload';\n",
              "  const cancelPromise = new Promise((resolve) => {\n",
              "    cancel.onclick = () => {\n",
              "      resolve(null);\n",
              "    };\n",
              "  });\n",
              "\n",
              "  // Wait for the user to pick the files.\n",
              "  const files = yield {\n",
              "    promise: Promise.race([pickedPromise, cancelPromise]),\n",
              "    response: {\n",
              "      action: 'starting',\n",
              "    }\n",
              "  };\n",
              "\n",
              "  cancel.remove();\n",
              "\n",
              "  // Disable the input element since further picks are not allowed.\n",
              "  inputElement.disabled = true;\n",
              "\n",
              "  if (!files) {\n",
              "    return {\n",
              "      response: {\n",
              "        action: 'complete',\n",
              "      }\n",
              "    };\n",
              "  }\n",
              "\n",
              "  for (const file of files) {\n",
              "    const li = document.createElement('li');\n",
              "    li.append(span(file.name, {fontWeight: 'bold'}));\n",
              "    li.append(span(\n",
              "        `(${file.type || 'n/a'}) - ${file.size} bytes, ` +\n",
              "        `last modified: ${\n",
              "            file.lastModifiedDate ? file.lastModifiedDate.toLocaleDateString() :\n",
              "                                    'n/a'} - `));\n",
              "    const percent = span('0% done');\n",
              "    li.appendChild(percent);\n",
              "\n",
              "    outputElement.appendChild(li);\n",
              "\n",
              "    const fileDataPromise = new Promise((resolve) => {\n",
              "      const reader = new FileReader();\n",
              "      reader.onload = (e) => {\n",
              "        resolve(e.target.result);\n",
              "      };\n",
              "      reader.readAsArrayBuffer(file);\n",
              "    });\n",
              "    // Wait for the data to be ready.\n",
              "    let fileData = yield {\n",
              "      promise: fileDataPromise,\n",
              "      response: {\n",
              "        action: 'continue',\n",
              "      }\n",
              "    };\n",
              "\n",
              "    // Use a chunked sending to avoid message size limits. See b/62115660.\n",
              "    let position = 0;\n",
              "    do {\n",
              "      const length = Math.min(fileData.byteLength - position, MAX_PAYLOAD_SIZE);\n",
              "      const chunk = new Uint8Array(fileData, position, length);\n",
              "      position += length;\n",
              "\n",
              "      const base64 = btoa(String.fromCharCode.apply(null, chunk));\n",
              "      yield {\n",
              "        response: {\n",
              "          action: 'append',\n",
              "          file: file.name,\n",
              "          data: base64,\n",
              "        },\n",
              "      };\n",
              "\n",
              "      let percentDone = fileData.byteLength === 0 ?\n",
              "          100 :\n",
              "          Math.round((position / fileData.byteLength) * 100);\n",
              "      percent.textContent = `${percentDone}% done`;\n",
              "\n",
              "    } while (position < fileData.byteLength);\n",
              "  }\n",
              "\n",
              "  // All done.\n",
              "  yield {\n",
              "    response: {\n",
              "      action: 'complete',\n",
              "    }\n",
              "  };\n",
              "}\n",
              "\n",
              "scope.google = scope.google || {};\n",
              "scope.google.colab = scope.google.colab || {};\n",
              "scope.google.colab._files = {\n",
              "  _uploadFiles,\n",
              "  _uploadFilesContinue,\n",
              "};\n",
              "})(self);\n",
              "</script> "
            ]
          },
          "metadata": {}
        },
        {
          "output_type": "stream",
          "name": "stdout",
          "text": [
            "Saving kaggle.json to kaggle.json\n"
          ]
        }
      ]
    },
    {
      "cell_type": "code",
      "source": [
        "!kaggle datasets download -d imanuelsteven/animal-peek\n"
      ],
      "metadata": {
        "colab": {
          "base_uri": "https://localhost:8080/"
        },
        "id": "IMVHb5J81Cz0",
        "outputId": "1c37c9a6-1745-4631-e66f-57f462d66887"
      },
      "execution_count": 5,
      "outputs": [
        {
          "output_type": "stream",
          "name": "stdout",
          "text": [
            "Dataset URL: https://www.kaggle.com/datasets/imanuelsteven/animal-peek\n",
            "License(s): MIT\n",
            "Downloading animal-peek.zip to /content\n",
            " 97% 290M/298M [00:01<00:00, 168MB/s]\n",
            "100% 298M/298M [00:01<00:00, 163MB/s]\n"
          ]
        }
      ]
    },
    {
      "cell_type": "code",
      "source": [
        "import zipfile\n",
        "\n",
        "# Mengekstrak file ZIP ke folder yang sesuai\n",
        "with zipfile.ZipFile(\"animal-peek.zip\", 'r') as zip_ref:\n",
        "    zip_ref.extractall(\"/content/dataset\")  # Ekstrak ke dalam folder /content/dataset"
      ],
      "metadata": {
        "id": "wrunMiF11jXO"
      },
      "execution_count": 6,
      "outputs": []
    },
    {
      "cell_type": "code",
      "source": [
        "def preprocess_image(image_path):\n",
        "    image = cv2.imread(image_path)\n",
        "    image = cv2.resize(image, (224, 224))  # Mengubah ukuran gambar menjadi 224x224\n",
        "    image = cv2.cvtColor(image, cv2.COLOR_BGR2RGB)  # Mengubah dari BGR ke RGB\n",
        "    image = image / 255.0  # Normalisasi gambar ke rentang [0, 1]\n",
        "    return image"
      ],
      "metadata": {
        "id": "VqckD95D1py-"
      },
      "execution_count": 7,
      "outputs": []
    },
    {
      "cell_type": "code",
      "source": [
        "data_path = '/content/dataset/Animal Peek/animals'\n",
        "labels_path = '/content/dataset/Animal Peek/name of the animals.txt'"
      ],
      "metadata": {
        "id": "JrdjPO5v3IB_"
      },
      "execution_count": 9,
      "outputs": []
    },
    {
      "cell_type": "code",
      "source": [
        "# Membaca label dari file\n",
        "with open(labels_path, 'r') as f:\n",
        "    animal_names = f.read().split('\\n')\n",
        "    animal_names = [name for name in animal_names if name]  # Menghapus string kosong jika ada\n",
        "    print(animal_names)\n",
        "\n",
        "# Proses gambar dan label\n",
        "data = []\n",
        "label = []\n",
        "\n",
        "for animal in animal_names:\n",
        "    animal_path = os.path.join(data_path, animal)\n",
        "\n",
        "    if os.path.isdir(animal_path):\n",
        "        for image_name in os.listdir(animal_path):\n",
        "            image_path = os.path.join(animal_path, image_name)\n",
        "            if image_name.lower().endswith(('.png', '.jpg', '.jpeg')):\n",
        "                image = preprocess_image(image_path)\n",
        "                data.append(image)\n",
        "                label.append(animal)\n",
        "\n",
        "# Ubah Data Menjadi Numpy Array\n",
        "data = np.array(data)\n",
        "label = np.array(label)\n",
        "\n",
        "print ('Total image : ', len(data))\n",
        "print ('Total label : ', len(label))\n"
      ],
      "metadata": {
        "id": "LdlV9liX3SW7"
      },
      "execution_count": null,
      "outputs": []
    },
    {
      "cell_type": "code",
      "source": [
        "# ubah label menjadi angka\n",
        "label_encoder = LabelEncoder()\n",
        "labels = label_encoder.fit_transform(label)\n",
        "\n",
        "len(labels)"
      ],
      "metadata": {
        "id": "Uvvqc8QE3e93"
      },
      "execution_count": null,
      "outputs": []
    },
    {
      "cell_type": "code",
      "source": [
        "X_train, X_test, y_train, y_test = train_test_split(data, labels, test_size=0.2, random_state=42, shuffle=True, stratify=labels)\n",
        "\n",
        "print(f\"X_train shape: {X_train.shape}\")\n",
        "print(f\"y_train shape: {y_train.shape}\")\n",
        "print(f\"X_test shape: {X_test.shape}\")\n",
        "print(f\"y_test shape: {y_test.shape}\")"
      ],
      "metadata": {
        "id": "7A0JKrUa3k_U"
      },
      "execution_count": null,
      "outputs": []
    },
    {
      "cell_type": "code",
      "source": [
        "def plot_training_history(history):\n",
        "    \"\"\"Plots the training and validation accuracy and loss curves.\n",
        "\n",
        "    Args:\n",
        "        history: The training history object returned by model.fit.\n",
        "    \"\"\"\n",
        "    acc = history.history['accuracy']\n",
        "    val_acc = history.history['val_accuracy']\n",
        "    loss = history.history['loss']\n",
        "    val_loss = history.history['val_loss']\n",
        "    epochs = range(1, len(acc) + 1)\n",
        "\n",
        "    plt.figure(figsize=(12, 4))\n",
        "\n",
        "    # Plot Accuracy\n",
        "    plt.subplot(1, 2, 1)\n",
        "    plt.plot(epochs, acc, 'r-', label='Training Accuracy')  # red line for training accuracy\n",
        "    plt.plot(epochs, val_acc, 'b-', label='Validation Accuracy')  # blue line for validation accuracy\n",
        "    plt.title('Training and Validation Accuracy')\n",
        "    plt.xlabel('Epochs')\n",
        "    plt.ylabel('Accuracy')\n",
        "    plt.legend()\n",
        "    plt.grid(True)  # Add grid\n",
        "\n",
        "    # Plot Loss\n",
        "    plt.subplot(1, 2, 2)\n",
        "    plt.plot(epochs, loss, 'r-', label='Training Loss')  # red line for training loss\n",
        "    plt.plot(epochs, val_loss, 'b-', label='Validation Loss')  # blue line for validation loss\n",
        "    plt.title('Training and Validation Loss')\n",
        "    plt.xlabel('Epochs')\n",
        "    plt.ylabel('Loss')\n",
        "    plt.legend()\n",
        "    plt.grid(True)  # Add grid\n",
        "\n",
        "    plt.tight_layout()\n",
        "    plt.show()\n"
      ],
      "metadata": {
        "id": "-YL6griq3nAI"
      },
      "execution_count": null,
      "outputs": []
    },
    {
      "cell_type": "code",
      "source": [
        "class EarlyStoppingCallback(tf.keras.callbacks.Callback):\n",
        "    def on_epoch_end(self, epoch, logs=None):\n",
        "        if logs['accuracy']>=0.98 and logs['val_accuracy'] >= 0.95:\n",
        "            self.model.stop_training = True\n",
        "            print(\"\\nReached 98% accuracy so cancelling training!\")"
      ],
      "metadata": {
        "id": "aFg49Uwn3pav"
      },
      "execution_count": null,
      "outputs": []
    },
    {
      "cell_type": "code",
      "source": [
        "def pretrained_model_mobilenet ():\n",
        "  pretrained_model = tf.keras.applications.MobileNetV2(\n",
        "      include_top=False,\n",
        "      input_shape=(224, 224, 3),\n",
        "      weights='imagenet'\n",
        "  )\n",
        "\n",
        "  for layer in pretrained_model.layers:\n",
        "    layer.trainable = False\n",
        "\n",
        "  return pretrained_model"
      ],
      "metadata": {
        "id": "TCuEoLxK3s6s"
      },
      "execution_count": null,
      "outputs": []
    },
    {
      "cell_type": "code",
      "source": [
        "def create_final_model(base_model, num_classes):\n",
        "    \"\"\"Creates final model by adding layers on top of the pretrained model using Sequential API.\n",
        "\n",
        "    Args:\n",
        "        base_model (tf.keras.Model): pre-trained NASNet model\n",
        "        num_classes (int): number of classes for classification\n",
        "\n",
        "    Returns:\n",
        "        TensorFlow model: final model\n",
        "    \"\"\"\n",
        "\n",
        "    # Create the Sequential model\n",
        "    model = tf.keras.Sequential()\n",
        "\n",
        "    # Add the pretrained base model without the top layers (include_top=False)\n",
        "    model.add(base_model)  # NASNetMobile is added here\n",
        "\n",
        "    # Flatten the output layer of the pretrained model to 1D\n",
        "    model.add(tf.keras.layers.Flatten())\n",
        "\n",
        "    # Add a fully connected layer with 1024 hidden units and ReLU activation\n",
        "    model.add(tf.keras.layers.Dense(1024, activation='relu'))\n",
        "\n",
        "    # Add a dropout layer with 20% dropout rate\n",
        "    model.add(tf.keras.layers.Dropout(0.2))\n",
        "\n",
        "    # Add the final softmax layer for classification\n",
        "    model.add(tf.keras.layers.Dense(num_classes, activation='softmax'))\n",
        "\n",
        "    # Compile the model\n",
        "    model.compile(\n",
        "        optimizer=tf.keras.optimizers.RMSprop(learning_rate=0.00001),\n",
        "        loss='sparse_categorical_crossentropy',\n",
        "        metrics=['accuracy']\n",
        "    )\n",
        "\n",
        "    return model\n"
      ],
      "metadata": {
        "id": "XVatiNsH3vGC"
      },
      "execution_count": null,
      "outputs": []
    },
    {
      "cell_type": "code",
      "source": [
        "base_model = pretrained_model_mobilenet()"
      ],
      "metadata": {
        "id": "RVgfMeqC3zua"
      },
      "execution_count": null,
      "outputs": []
    },
    {
      "cell_type": "code",
      "source": [
        "Mobilenet_model = create_final_model(base_model, len(animal_names))"
      ],
      "metadata": {
        "id": "TWKrh7yF33I_"
      },
      "execution_count": null,
      "outputs": []
    },
    {
      "cell_type": "code",
      "source": [
        "history_mobilenet = Mobilenet_model.fit(\n",
        "    datagen.flow(X_train, y_train),\n",
        "    epochs=15,\n",
        "    validation_data=(X_test, y_test),\n",
        "    callbacks=[EarlyStoppingCallback()],\n",
        "    shuffle=True\n",
        ")\n"
      ],
      "metadata": {
        "id": "is-bV2lI35Ty"
      },
      "execution_count": null,
      "outputs": []
    },
    {
      "cell_type": "code",
      "source": [
        " plot_training_history(history_mobilenet)"
      ],
      "metadata": {
        "id": "8KNQjl393719"
      },
      "execution_count": null,
      "outputs": []
    },
    {
      "cell_type": "code",
      "source": [
        "#Misalnya, y_pred adalah prediksi model dan y_test adalah label yang sebenarnya\n",
        "y_pred = Mobilenet_model.predict(X_test)\n",
        "y_pred_classes = np.argmax(y_pred, axis=1)  # Mengambil kelas dengan probabilitas tertinggi\n",
        "\n",
        "# Menghitung Confusion Matrix\n",
        "cm = confusion_matrix(y_test, y_pred_classes)\n",
        "\n",
        "plt.figure(figsize=(20, 20))\n",
        "sns.heatmap(cm, annot=True, fmt='d', cmap='Blues', xticklabels=animal_names, yticklabels=animal_names)\n",
        "plt.xticks(rotation=90, fontsize=10)\n",
        "plt.yticks(rotation=0, fontsize=10)\n",
        "plt.xlabel('Predicted Label')\n",
        "plt.ylabel('True Label')\n",
        "plt.title('Confusion Matrix Heatmap')\n",
        "plt.tight_layout()\n",
        "plt.show()\n"
      ],
      "metadata": {
        "id": "itlZ1ZTK38tU"
      },
      "execution_count": null,
      "outputs": []
    },
    {
      "cell_type": "code",
      "source": [
        "# Menghitung dan menampilkan classification report\n",
        "report = classification_report(y_test, y_pred_classes, target_names=animal_names)\n",
        "print(report)"
      ],
      "metadata": {
        "id": "LXZP47X54CYi"
      },
      "execution_count": null,
      "outputs": []
    },
    {
      "cell_type": "code",
      "source": [
        "# Cek perbedaan antara y_test dan y_pred_classes (prediksi yang salah)\n",
        "incorrect_indices = np.where(y_test != y_pred_classes)[0]\n",
        "\n",
        "# Tampilkan gambar yang salah prediksi\n",
        "for idx in incorrect_indices:\n",
        "    img = X_test[idx]  # Ambil gambar dari X_test (data uji) yang diprediksi salah\n",
        "    true_label = y_test[idx]  # Label asli\n",
        "    predicted_label = y_pred_classes[idx]  # Prediksi model\n",
        "\n",
        "    # Tampilkan gambar dan label yang benar/salah\n",
        "    plt.imshow(img)  # Tampilkan gambar\n",
        "    plt.title(f\"True Label: {animal_names[true_label]}\\nPredicted: {animal_names[predicted_label]}\")\n",
        "    plt.axis('off')  # Matikan axis\n",
        "    plt.show()"
      ],
      "metadata": {
        "id": "lHBDCwWX4EBo"
      },
      "execution_count": null,
      "outputs": []
    },
    {
      "cell_type": "code",
      "source": [
        "from tensorflow.keras.preprocessing import image\n",
        "\n",
        "# Fungsi untuk memprediksi gambar yang di-upload\n",
        "def predict_image(uploaded_image_path):\n",
        "    # Preprocess gambar\n",
        "    img = preprocess_image(uploaded_image_path)\n",
        "\n",
        "    # Tambahkan dimensi batch (model memerlukan input batch)\n",
        "    img = np.expand_dims(img, axis=0)\n",
        "\n",
        "    # Prediksi kelas gambar\n",
        "    y_pred = Mobilenet_model.predict(img)\n",
        "    y_pred_classes = np.argmax(y_pred, axis=1)  # Mengambil kelas dengan probabilitas tertinggi\n",
        "\n",
        "    # Ambil label yang sesuai dengan prediksi\n",
        "    predicted_label = animal_names[y_pred_classes[0]]\n",
        "    return predicted_label, y_pred[0][y_pred_classes[0]]\n",
        "\n",
        "# Meng-upload gambar melalui Colab\n",
        "uploaded = files.upload()\n",
        "\n",
        "# Ambil nama file gambar yang di-upload\n",
        "for fn in uploaded.keys():\n",
        "    # Path gambar yang di-upload\n",
        "    img_path = fn\n",
        "\n",
        "    # Prediksi gambar\n",
        "    label, probability = predict_image(img_path)\n",
        "\n",
        "    # Tampilkan gambar dan hasil prediksi\n",
        "    img = cv2.imread(img_path)\n",
        "    img = cv2.cvtColor(img, cv2.COLOR_BGR2RGB)  # Ubah kembali ke RGB untuk tampilan yang benar di Colab\n",
        "    plt.imshow(img)\n",
        "    plt.axis('off')  # Matikan axis\n",
        "    plt.title(f\"Predicted Label: {label} | Confidence: {probability*100:.2f}%\")\n",
        "    plt.show()\n"
      ],
      "metadata": {
        "id": "UXi06b1X4MEx"
      },
      "execution_count": null,
      "outputs": []
    }
  ]
}